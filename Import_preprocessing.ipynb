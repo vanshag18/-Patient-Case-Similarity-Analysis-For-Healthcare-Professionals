{
  "nbformat": 4,
  "nbformat_minor": 0,
  "metadata": {
    "colab": {
      "provenance": [],
      "gpuType": "T4",
      "include_colab_link": true
    },
    "kernelspec": {
      "name": "python3",
      "display_name": "Python 3"
    },
    "language_info": {
      "name": "python"
    },
    "accelerator": "GPU"
  },
  "cells": [
    {
      "cell_type": "markdown",
      "metadata": {
        "id": "view-in-github",
        "colab_type": "text"
      },
      "source": [
        "<a href=\"https://colab.research.google.com/github/MAHI-hash0303/Patient_Case_Similarity/blob/main/Import_preprocessing.ipynb\" target=\"_parent\"><img src=\"https://colab.research.google.com/assets/colab-badge.svg\" alt=\"Open In Colab\"/></a>"
      ]
    },
    {
      "cell_type": "code",
      "source": [
        "#importing dataset\n",
        "import pandas as pd\n",
        "from sklearn.model_selection import train_test_split\n",
        "from sklearn.preprocessing import LabelEncoder\n",
        "from sklearn.feature_extraction.text import TfidfVectorizer\n",
        "from tensorflow.keras.models import Sequential\n",
        "from tensorflow.keras.layers import Dense, Dropout\n",
        "from imblearn.under_sampling import RandomUnderSampler\n",
        "from flask import Flask, render_template, request"
      ],
      "metadata": {
        "id": "6kY_DXw8R7B-"
      },
      "execution_count": null,
      "outputs": []
    },
    {
      "cell_type": "code",
      "source": [
        "#reading the dataset\n",
        "df = pd.read_csv(\"/content/patient_details.csv\")"
      ],
      "metadata": {
        "id": "h_c8dVYPRBTH"
      },
      "execution_count": null,
      "outputs": []
    },
    {
      "cell_type": "code",
      "source": [
        "#preprocessing\n",
        "df = df.dropna(subset=['SYMPTOMS', 'DISEASE', 'PRESCRIPTION'])\n",
        "start_row, end_row = 99626, 107519\n",
        "df = df.drop(df.index[start_row:end_row+1])\n",
        "#df = df.drop([\"Unnamed: 7\", \"Unnamed: 8\", \"Unnamed: 9\", \"Unnamed: 10\"], axis=1)\n",
        "df[\"SYMPTOMS\"] = df[\"SYMPTOMS\"].str.lower().str.strip()"
      ],
      "metadata": {
        "id": "g1buqyQrRBRS"
      },
      "execution_count": null,
      "outputs": []
    },
    {
      "cell_type": "code",
      "source": [
        "#label encoding, making a category for each type\n",
        "le_disease = LabelEncoder()\n",
        "le_prescription = LabelEncoder()"
      ],
      "metadata": {
        "id": "SEpeos6dRBOf"
      },
      "execution_count": null,
      "outputs": []
    },
    {
      "cell_type": "code",
      "source": [
        "#transforming\n",
        "y_disease = le_disease.fit_transform(df['DISEASE'])\n",
        "y_prescription = le_prescription.fit_transform(df['PRESCRIPTION'])"
      ],
      "metadata": {
        "id": "GHjHsmcxRBLv"
      },
      "execution_count": null,
      "outputs": []
    },
    {
      "cell_type": "code",
      "source": [
        "#vectorising\n",
        "tfidf_vectorizer = TfidfVectorizer(max_features=5000)\n",
        "X_vectorized = tfidf_vectorizer.fit_transform(df['SYMPTOMS'])\n",
        "X_dense = X_vectorized.toarray()"
      ],
      "metadata": {
        "id": "2bSmeqQDRBJF"
      },
      "execution_count": null,
      "outputs": []
    }
  ]
}