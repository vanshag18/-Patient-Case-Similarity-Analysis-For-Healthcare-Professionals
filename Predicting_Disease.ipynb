{
  "nbformat": 4,
  "nbformat_minor": 0,
  "metadata": {
    "colab": {
      "provenance": [],
      "gpuType": "T4",
      "include_colab_link": true
    },
    "kernelspec": {
      "name": "python3",
      "display_name": "Python 3"
    },
    "language_info": {
      "name": "python"
    },
    "accelerator": "GPU"
  },
  "cells": [
    {
      "cell_type": "markdown",
      "metadata": {
        "id": "view-in-github",
        "colab_type": "text"
      },
      "source": [
        "<a href=\"https://colab.research.google.com/github/MAHI-hash0303/Patient_Case_Similarity/blob/main/Predicting_Disease.ipynb\" target=\"_parent\"><img src=\"https://colab.research.google.com/assets/colab-badge.svg\" alt=\"Open In Colab\"/></a>"
      ]
    },
    {
      "cell_type": "code",
      "source": [
        "# Creating the model for prediction\n",
        "X_train_disease, X_test_disease, y_train_disease, y_test_disease = train_test_split(X_dense, y_disease, test_size=0.2, random_state=42)\n",
        "X_train_prescription, X_test_prescription, y_train_prescription, y_test_prescription = train_test_split(X_dense, y_prescription, test_size=0.2, random_state=42)\n",
        "rus = RandomUnderSampler(sampling_strategy=\"auto\")\n",
        "X_train_disease, y_train_disease = rus.fit_resample(X_train_disease, y_train_disease)\n",
        "X_train_prescription, y_train_prescription = rus.fit_resample(X_train_prescription, y_train_prescription)\n",
        "\n",
        "disease_model = Sequential()\n",
        "disease_model.add(Dense(128, activation=\"relu\", input_dim=X_train_disease.shape[1]))\n",
        "disease_model.add(Dropout(0.5))\n",
        "disease_model.add(Dense(len(le_disease.classes_), activation=\"softmax\"))\n",
        "disease_model.compile(loss=\"sparse_categorical_crossentropy\", optimizer=\"adam\", metrics=[\"accuracy\"])\n",
        "disease_model.fit(X_train_disease, y_train_disease, epochs=10, batch_size=32, validation_data=(X_test_disease, y_test_disease))\n",
        "\n",
        "prescription_model = Sequential()\n",
        "prescription_model.add(Dense(128, activation=\"relu\", input_dim=X_train_prescription.shape[1]))\n",
        "prescription_model.add(Dropout(0.5))\n",
        "prescription_model.add(Dense(len(le_prescription.classes_), activation='softmax'))\n",
        "prescription_model.compile(loss=\"sparse_categorical_crossentropy\", optimizer=\"adam\", metrics=[\"accuracy\"])\n",
        "prescription_model.fit(X_train_prescription, y_train_prescription, epochs=10, batch_size=32, validation_data=(X_test_prescription, y_test_prescription))"
      ],
      "metadata": {
        "colab": {
          "base_uri": "https://localhost:8080/"
        },
        "id": "4q-IPBKm8PQW",
        "outputId": "ef8faf27-c9b7-4380-9763-0706b16cef75"
      },
      "execution_count": null,
      "outputs": [
        {
          "output_type": "stream",
          "name": "stdout",
          "text": [
            "Epoch 1/10\n",
            "2439/2439 [==============================] - 7s 2ms/step - loss: 0.2077 - accuracy: 0.9578 - val_loss: 0.0474 - val_accuracy: 0.9672\n",
            "Epoch 2/10\n",
            "2439/2439 [==============================] - 5s 2ms/step - loss: 0.0479 - accuracy: 0.9664 - val_loss: 0.0475 - val_accuracy: 0.9646\n",
            "Epoch 3/10\n",
            "2439/2439 [==============================] - 5s 2ms/step - loss: 0.0471 - accuracy: 0.9659 - val_loss: 0.0473 - val_accuracy: 0.9672\n",
            "Epoch 4/10\n",
            "2439/2439 [==============================] - 6s 3ms/step - loss: 0.0469 - accuracy: 0.9656 - val_loss: 0.0476 - val_accuracy: 0.9672\n",
            "Epoch 5/10\n",
            "2439/2439 [==============================] - 5s 2ms/step - loss: 0.0467 - accuracy: 0.9661 - val_loss: 0.0480 - val_accuracy: 0.9646\n",
            "Epoch 6/10\n",
            "2439/2439 [==============================] - 6s 3ms/step - loss: 0.0465 - accuracy: 0.9671 - val_loss: 0.0474 - val_accuracy: 0.9646\n",
            "Epoch 7/10\n",
            "2439/2439 [==============================] - 5s 2ms/step - loss: 0.0466 - accuracy: 0.9665 - val_loss: 0.0474 - val_accuracy: 0.9672\n",
            "Epoch 8/10\n",
            "2439/2439 [==============================] - 7s 3ms/step - loss: 0.0466 - accuracy: 0.9661 - val_loss: 0.0473 - val_accuracy: 0.9672\n",
            "Epoch 9/10\n",
            "2439/2439 [==============================] - 5s 2ms/step - loss: 0.0464 - accuracy: 0.9671 - val_loss: 0.0475 - val_accuracy: 0.9646\n",
            "Epoch 10/10\n",
            "2439/2439 [==============================] - 6s 2ms/step - loss: 0.0464 - accuracy: 0.9666 - val_loss: 0.0473 - val_accuracy: 0.9646\n",
            "Epoch 1/10\n",
            "1015/1015 [==============================] - 4s 3ms/step - loss: 3.5198 - accuracy: 0.0375 - val_loss: 3.5145 - val_accuracy: 0.0326\n",
            "Epoch 2/10\n",
            "1015/1015 [==============================] - 2s 2ms/step - loss: 3.5014 - accuracy: 0.0448 - val_loss: 3.5026 - val_accuracy: 0.0303\n",
            "Epoch 3/10\n",
            "1015/1015 [==============================] - 3s 3ms/step - loss: 3.4945 - accuracy: 0.0488 - val_loss: 3.5030 - val_accuracy: 0.0298\n",
            "Epoch 4/10\n",
            "1015/1015 [==============================] - 3s 3ms/step - loss: 3.4905 - accuracy: 0.0500 - val_loss: 3.4976 - val_accuracy: 0.0299\n",
            "Epoch 5/10\n",
            "1015/1015 [==============================] - 4s 4ms/step - loss: 3.4900 - accuracy: 0.0507 - val_loss: 3.4987 - val_accuracy: 0.0333\n",
            "Epoch 6/10\n",
            "1015/1015 [==============================] - 2s 2ms/step - loss: 3.4874 - accuracy: 0.0483 - val_loss: 3.5015 - val_accuracy: 0.0289\n",
            "Epoch 7/10\n",
            "1015/1015 [==============================] - 2s 2ms/step - loss: 3.4875 - accuracy: 0.0507 - val_loss: 3.4984 - val_accuracy: 0.0310\n",
            "Epoch 8/10\n",
            "1015/1015 [==============================] - 3s 3ms/step - loss: 3.4866 - accuracy: 0.0501 - val_loss: 3.5013 - val_accuracy: 0.0289\n",
            "Epoch 9/10\n",
            "1015/1015 [==============================] - 4s 3ms/step - loss: 3.4856 - accuracy: 0.0497 - val_loss: 3.5017 - val_accuracy: 0.0313\n",
            "Epoch 10/10\n",
            "1015/1015 [==============================] - 3s 3ms/step - loss: 3.4849 - accuracy: 0.0512 - val_loss: 3.5006 - val_accuracy: 0.0310\n"
          ]
        },
        {
          "output_type": "execute_result",
          "data": {
            "text/plain": [
              "<keras.callbacks.History at 0x7da73cb37f10>"
            ]
          },
          "metadata": {},
          "execution_count": 65
        }
      ]
    },
    {
      "cell_type": "code",
      "source": [
        "# Creating a funtion which predicts the disease\n",
        "def predict_disease_and_prescription(symptoms, vectorizer, disease_model, prescription_model, le_disease, le_prescription):\n",
        "\n",
        "    symptoms_processed = vectorizer.transform([symptoms.lower().strip()])\n",
        "    symptoms_dense = symptoms_processed.toarray()\n",
        "\n",
        "\n",
        "    disease_prediction = disease_model.predict(symptoms_dense)\n",
        "    predicted_disease = le_disease.inverse_transform([disease_prediction.argmax()])[0]\n",
        "\n",
        "\n",
        "    prescription_prediction = prescription_model.predict(symptoms_dense)\n",
        "    predicted_prescription = le_prescription.inverse_transform([prescription_prediction.argmax()])[0]\n",
        "\n",
        "    return predicted_disease, predicted_prescription\n"
      ],
      "metadata": {
        "id": "uKaPLlYt8PNK"
      },
      "execution_count": null,
      "outputs": []
    },
    {
      "cell_type": "code",
      "source": [
        "# Predicting the disease\n",
        "user_symptoms = input(\"Enter symptoms: \")\n",
        "predicted_disease, predicted_prescription = predict_disease_and_prescription(user_symptoms, tfidf_vectorizer, disease_model, prescription_model, le_disease, le_prescription)\n",
        "\n",
        "print(f'Predicted Disease: {predicted_disease}')\n",
        "print(f'Predicted Prescription: {predicted_prescription}')\n"
      ],
      "metadata": {
        "colab": {
          "base_uri": "https://localhost:8080/"
        },
        "id": "rcmUDomA8PKO",
        "outputId": "1f2bbff4-c2d9-40ce-a49d-d2f62590be14"
      },
      "execution_count": null,
      "outputs": [
        {
          "output_type": "stream",
          "name": "stdout",
          "text": [
            "Enter symptoms: Fever, chills, cough, sore throat, body aches, fatigue\n",
            "1/1 [==============================] - 0s 18ms/step\n",
            "1/1 [==============================] - 0s 18ms/step\n",
            "Predicted Disease: flu\n",
            "Predicted Prescription: Loratadine Nasal corticosteroids\n"
          ]
        }
      ]
    }
  ]
}